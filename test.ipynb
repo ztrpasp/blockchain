{
 "cells": [
  {
   "cell_type": "code",
   "execution_count": null,
   "metadata": {},
   "outputs": [],
   "source": []
  }
 ],
 "metadata": {
  "kernelspec": {
   "display_name": "Python 3.8.10 64-bit",
   "language": "python",
   "name": "python3"
  },
  "language_info": {
   "name": "python",
   "version": "3.8.10"
  },
  "orig_nbformat": 4,
  "vscode": {
   "interpreter": {
    "hash": "06307bcb701fcb25f656de686b20be3b7a017b28594ab50dd96bfca722c6c7c1"
   }
  }
 },
 "nbformat": 4,
 "nbformat_minor": 2
}
